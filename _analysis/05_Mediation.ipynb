{
 "cells": [
  {
   "cell_type": "code",
   "execution_count": 1,
   "metadata": {},
   "outputs": [],
   "source": [
    "import sys\n",
    "\n",
    "#%matplotlib inline\n",
    "import matplotlib.pyplot as plt\n",
    "import numpy as np\n",
    "import os\n",
    "from scipy import stats\n",
    "from scipy.stats import pearsonr, zscore, norm\n",
    "import pandas as pd\n",
    "import h5py\n",
    "import pickle\n",
    "import deepdish as dd\n",
    "from statsmodels.formula.api import ols\n",
    "# from statsmodels.stats.anova import anova_lm\n",
    "import networkx as nx\n",
    "from _functions import * #import the story schema effect scoring function\n",
    "\n",
    "import seaborn as sns\n",
    "\n",
    "##############\n",
    "##############\n",
    "\n",
    "from tqdm import tqdm_notebook\n"
   ]
  },
  {
   "cell_type": "markdown",
   "metadata": {},
   "source": [
    "# BOOT STRAPPING AND STUFF MEDIATON"
   ]
  },
  {
   "cell_type": "code",
   "execution_count": 3,
   "metadata": {},
   "outputs": [],
   "source": [
    "nSubj = 30\n",
    "\n",
    "def standardize(x):\n",
    "    return (x - x.mean()) / x.std()\n",
    "\n",
    "def RunRegression(formula,data_in):\n",
    "    fit = ols(formula, data=data_in).fit()\n",
    "    coefs = fit.params\n",
    "    errs = fit.bse\n",
    "    return coefs, errs"
   ]
  },
  {
   "cell_type": "code",
   "execution_count": 16,
   "metadata": {},
   "outputs": [],
   "source": [
    "def GetSeed(date,roi,roi_id,scoretype,eff,event='all',hems='all',extra='within_modality'):\n",
    "\n",
    "\n",
    "    path = '../../SchemaBigFiles/_PaperOutputData/{}'.format(scoretype)\n",
    "\n",
    "    subj_selection = has_R if 'percept' in scoretype.split('_') else np.full(30,fill_value=True) #recalls only have 30 subj\n",
    "\n",
    "\n",
    "    score = {}\n",
    "   \n",
    "    for hem in ['L','R']:\n",
    "        fname = '{date}_{roi}_{roi_id:04d}_{hem}_{scoretype}_{extra}.h5'.format(date=date, roi=roi, roi_id=roi_id,\n",
    "                                                                hem=hem, scoretype=scoretype,extra=extra)\n",
    "        try:\n",
    "            score[hem] = dd.io.load(os.path.join(path,fname), '/' + hem + '/'+ eff )[subj_selection,:]\n",
    "#             print(score[hem].shape)\n",
    "        except Exception as e:\n",
    "            print(e)\n",
    "            score[hem] = np.full((30, 16, 4, 1001), fill_value=np.nan) #dd.io.load(os.path.join(path,fname), '/' + hem + '/'+ eff )[subj_selection,:]\n",
    "\n",
    "\n",
    "        if event=='all':\n",
    "            score[hem] = np.nanmean(score[hem][:,:,:,0],axis=2) #average out the event dimension, select raw data (not permtuation)\n",
    "        else:\n",
    "            score[hem] = score[hem][:,:,event,0]\n",
    "\n",
    "    if hems =='all':\n",
    "        seed = np.nanmean(np.concatenate((score['L'][np.newaxis,:],score['R'][np.newaxis,:])),axis=0) #average out left and right hemisphere seed\n",
    "    else: #if hems == 'L' or'R'\n",
    "        seed = score[hems]\n",
    "        \n",
    "    return seed\n",
    "\n",
    "\n"
   ]
  },
  {
   "cell_type": "code",
   "execution_count": 5,
   "metadata": {},
   "outputs": [],
   "source": [
    "def modalitybool(mod_i_care_about='V'):\n",
    "    '''boolean index of shape 30,16 with trues indicating subset of data'''\n",
    "    if mod_i_care_about=='B':##if both\n",
    "        mod_bool = np.array([True for i in range(16)])\n",
    "        return np.tile(mod_bool[:,np.newaxis],nSubj).T\n",
    "    else:\n",
    "        modality = 'VVVVAAAAVVVVAAAA'\n",
    "        mod_bool = np.array([mod_i_care_about==mod for mod in modality])\n",
    "        return np.tile(mod_bool[:,np.newaxis],nSubj).T\n",
    "    \n",
    "    "
   ]
  },
  {
   "cell_type": "code",
   "execution_count": 6,
   "metadata": {},
   "outputs": [],
   "source": [
    "def Permute(data):\n",
    "    \n",
    "    np.random.seed(0)\n",
    "\n",
    "    nPerm = 1000\n",
    "\n",
    "    c = np.zeros((2,nPerm+1)) #first row is coef estimate, second row is err\n",
    "    a = np.zeros((2,nPerm+1))\n",
    "    b = np.zeros((2,nPerm+1))\n",
    "    c_ = np.zeros((2,nPerm+1))\n",
    "\n",
    "    for p in tqdm_notebook(range(nPerm+1)):\n",
    "\n",
    "        data_perm = data.copy()\n",
    "        data_shuff = data.copy()\n",
    "\n",
    "        if p!= 0: #break the outcome variable (Y) correspondence\n",
    "            \n",
    "            ### break everything\n",
    "#             data_perm.Y = data_perm.Y.sample(frac=1,replace=False).values\n",
    "            \n",
    "            ### shuffle stories within subject only\n",
    "            groups = np.array([data_shuff.Y.sample(frac=1) for _,data_shuff in data_shuff.groupby(data_shuff.S)])\n",
    "#             print(data_perm.Y.to_numpy().shape, groups.ravel().shape)\n",
    "            data_perm.Y = groups.ravel() \n",
    "            \n",
    "            #groups = [data.Y.sample(frac=1) for _,data in data.groupby(data.S)]\n",
    "            #data.Y.loc[:] = pd.concat(groups).to_numpy()\n",
    "\n",
    "        ## show that c path is legit\n",
    "        coefs, errs = RunRegression('Y ~ X - 1', data_perm) # no intercept, since standardized\n",
    "        c[0,p] = coefs.X ; c[1,p] = errs.X\n",
    "\n",
    "        ## show that b path is legit\n",
    "        coefs, errs = RunRegression('Y ~ X + M - 1', data_perm) # no intercept, since standardized\n",
    "        b[0,p] = coefs.M  ; b[1,p] = errs.M\n",
    "        c_[0,p] = coefs.X ; c_[1,p] = errs.X\n",
    "\n",
    "        data_perm = data.copy()\n",
    "        data_shuff = data.copy()\n",
    "\n",
    "        if p!=0: #break the outcome variable (M) correspondence\n",
    "#             data_perm.M = data_perm.M.sample(frac=1,replace=False).values\n",
    "            \n",
    "            groups = np.array([data_shuff.M.sample(frac=1) for _,data_shuff in data_shuff.groupby(data_shuff.S)])\n",
    "            data_perm.M = groups.ravel() \n",
    "\n",
    "        ## show that a path is legit\n",
    "        coefs, errs = RunRegression('M ~ X - 1', data_perm) # no intercept, since standardized\n",
    "        a[0,p] = coefs.X ; a[1,p] = errs.X\n",
    "    \n",
    "        if p == 0:\n",
    "            print('a,b,c,c_ : ',  a[0,0],b[0,0],c[0,0],c_[0,0])\n",
    "    \n",
    "    return a,b,c,c_\n",
    "    \n",
    "    "
   ]
  },
  {
   "cell_type": "code",
   "execution_count": 7,
   "metadata": {},
   "outputs": [],
   "source": [
    "\n",
    "def Boot(data):\n",
    "\n",
    "    nBoot = 1000\n",
    "\n",
    "    c = np.zeros((2,nBoot+1))\n",
    "    a = np.zeros((2,nBoot+1))\n",
    "    b = np.zeros((2,nBoot+1))\n",
    "    c_ = np.zeros((2,nBoot+1))\n",
    "\n",
    "    for boot in tqdm_notebook(range(nBoot+1)):\n",
    "\n",
    "        data_boot = data.copy()    \n",
    "\n",
    "        if boot != 0:\n",
    "            data_boot = data_boot.sample(frac=1,replace=True).reset_index(drop=True)\n",
    "\n",
    "        ## show that c path is legit\n",
    "        # coefs, errs = RunRegression('Y ~ X - 1', data_boot) # no intercept, since standardized\n",
    "        # c[0,boot] = coefs.X ; c[1,boot] = errs.X\n",
    "\n",
    "        ## show that b path is legit\n",
    "        coefs, errs = RunRegression('Y ~ X + M - 1', data_boot) # no intercept, since standardized\n",
    "        b[0,boot] = coefs.M  ;  b[1,boot] = errs.M\n",
    "        # c_[0,boot] = coefs.X ; c_[1,boot] = errs.X #don't need this for calculating confidence intervals\n",
    "\n",
    "        ## show that a path is legit\n",
    "        coefs, errs = RunRegression('M ~ X - 1', data_boot) # no intercept, since standardized\n",
    "        a[0,boot] = coefs.X ; a[1,boot] = errs.X\n",
    "        \n",
    "        if boot == 0:\n",
    "            print('a,b: ',  a[0,0],b[0,0])\n",
    "\n",
    "    ### CALCULATE CONFIDENCE INTERVALS\n",
    "    ab = a[0,:]*b[0,:]\n",
    "    propor = np.sum(ab[1:]<ab[0])/len(ab[1:])\n",
    "    print(\"proportion 1: \", propor)\n",
    "    propor = np.sum(np.abs(ab[:])>=np.abs(ab[0]))/len(ab[:]) #two-sided proportion\n",
    "    print('proportion: ',boot, propor)\n",
    "    z_ab = norm.ppf(propor)\n",
    "    print('z : ', z_ab)\n",
    "    alpha = 0.05 # significance criterium\n",
    "\n",
    "    ci_low = norm.cdf(2*z_ab + norm.ppf(alpha/2)) # 2* z_ab - 1.96\n",
    "    ci_up = norm.cdf(2*z_ab + norm.ppf(1-alpha/2))#2* z_ab + 1.96\n",
    "    \n",
    "    print('Intervals: {:.3f} - {:.3f}'.format(ci_low,ci_up))\n",
    "\n",
    "    ci_bias = [np.sort(ab)[int(len(ab)*ci_low)],np.sort(ab)[int(len(ab)*ci_up)]] # bias-corrected confidence interval\n",
    "    ci_classic = [np.sort(ab)[int(len(ab)*.05)],np.sort(ab)[int(len(ab)*.95)]] # traditional confidence interval\n",
    "\n",
    "    sns.distplot(ab[1:])\n",
    "    plt.scatter(ab[0],1,label='a*b')\n",
    "    plt.scatter(ci_bias,[1,1],label='bias-corrected')\n",
    "    plt.scatter(ci_classic,[1,1],label='classic')\n",
    "    plt.legend()\n",
    "    \n",
    "    return ci_bias,ci_classic\n"
   ]
  },
  {
   "cell_type": "code",
   "execution_count": 8,
   "metadata": {},
   "outputs": [],
   "source": [
    "def DrawMediation(a,b,c,c_):\n",
    "\n",
    "    fig, ax = plt.subplots(1, 2,figsize=(10,5))\n",
    "\n",
    "    ax[0].set_title(\"total effect\", fontsize=15)\n",
    "    ax[1].set_title(\"included mediated effect\", fontsize=15)\n",
    "\n",
    "\n",
    "\n",
    "    options = {\n",
    "        'node_color': 'pink',\n",
    "        'node_size': 1000,\n",
    "        'width': 1,\n",
    "        'linewidths':2,\n",
    "        'alpha':1,\n",
    "        'edge_color' : 'black',\n",
    "        'font_size':17,\n",
    "        'font_color':'red',\n",
    "        'arrows' : True,\n",
    "        'arrowstyle': '-|>',\n",
    "        'arrowsize': 12,\n",
    "    #     'edge_labels' : {('X','Y'):\"c= {:.3f}\".format(c[0,0])}\n",
    "    }\n",
    "\n",
    "\n",
    "\n",
    "    ### TOTAL EFFECT\n",
    "    plt.sca(ax[0])  ## select first column for plotting\n",
    "    G=nx.DiGraph()\n",
    "    edges=[('X','Y',{'c':c})]\n",
    "    edge_labels = {('X','Y'):\"c= {:.3f}\".format(c)}\n",
    "\n",
    "    G.add_edges_from(edges)\n",
    "    # pos = nx.spring_layout(G,seed=2)\n",
    "    pos = {'X': [0,0],\n",
    "           'Y': [10,0]}\n",
    "    nx.draw_networkx(G,pos,ax=ax[0],**options)\n",
    "    nx.draw_networkx_edge_labels(G,pos,edge_labels=edge_labels,**options)#,edge_labels={('X','Y'):\"c= {:.3f}\".format(c[0,0])},font_color='red',font_size=17,arrows=True)\n",
    "    plt.axis('off') #remove bounding box of plot\n",
    "\n",
    "\n",
    "    ### DIRECT EFFECT\n",
    "    plt.sca(ax[1])  ## select second column for plotting\n",
    "\n",
    "    edges=[('X','M',{'a':a}),('X','Y',{'b':b}),('M','Y',{\"c'\":c_})]\n",
    "    edge_labels = {('X','Y'):\"c'= {:.3f}\".format(c_), ('X','M'):'a= {:.3f}'.format(a),('M','Y'):'b= {:.3f}'.format(b)}\n",
    "\n",
    "    G=nx.DiGraph() \n",
    "    G.add_edges_from(edges)\n",
    "    pos = nx.spring_layout(G,seed=13)\n",
    "    nx.draw_networkx(G,pos,**options) #draw graph\n",
    "    nx.draw_networkx_edge_labels(G,pos,edge_labels= edge_labels,**options) # draw edges\n",
    "    plt.axis('off') #remove bounding box of plot\n",
    "    \n",
    "    plt.show()\n",
    "\n"
   ]
  },
  {
   "cell_type": "code",
   "execution_count": 9,
   "metadata": {},
   "outputs": [],
   "source": [
    "def GetData(date, x_roi, x_scoretype, x_eff, x_roi_id, m_roi, m_scoretype, m_eff, m_roi_id, Y, subset=[],event='all',hems='all'):\n",
    "    '''\n",
    "    X,M, and Y are shape (nSubj, nStories).\n",
    "    Y should be outcome scores to predict like rubric_scores or wv_schema\n",
    "    \n",
    "    returns df with causal (x), mediator (m), and outcome (y) variables in the columns.\n",
    "    '''\n",
    "\n",
    "    ### include all subjects if no subset provided.\n",
    "    subset = subset if len(subset)!=0 else np.ones((nSubj,nStories),dtype=bool)\n",
    "    \n",
    "    s_ids = np.array([np.repeat(i,nStories) for i in range(nSubj)]) #\n",
    "\n",
    "    ### extract measures\n",
    "    X = GetSeed(date,x_roi,x_roi_id,x_scoretype,x_eff,event=event,hems=hems)[subset].ravel()\n",
    "    M = GetSeed(date,m_roi,m_roi_id,m_scoretype,m_eff,event=event,hems=hems)[subset].ravel()\n",
    "    Y = Y[subset].ravel()\n",
    "    S = s_ids[subset].ravel()\n",
    "    \n",
    "#     print(X.shape,M.shape,Y.shape)\n",
    "\n",
    "    ## set up df to hold data for regression/correlation\n",
    "    columns = ['X', 'M', 'Y','S'] #'S' for subject id\n",
    "    data = pd.DataFrame(index=np.arange(X.shape[0]), columns = columns)\n",
    "    data.X = standardize(X)\n",
    "    data.M = standardize(M)\n",
    "    data.Y = standardize(Y)\n",
    "    data.S = S #subject ids\n",
    "    \n",
    "\n",
    "    return data"
   ]
  },
  {
   "cell_type": "markdown",
   "metadata": {},
   "source": [
    "## analysis"
   ]
  },
  {
   "cell_type": "code",
   "execution_count": 11,
   "metadata": {},
   "outputs": [],
   "source": [
    "rubric_scores = openObject(\"normalizedRubricScores_byStory.pkl\") ## NEW\n"
   ]
  },
  {
   "cell_type": "code",
   "execution_count": 17,
   "metadata": {
    "scrolled": false
   },
   "outputs": [],
   "source": [
    "date = 20211014\n",
    "x_roi = 'mPFC_k2_c0' ; x_scoretype = 'roi_percept_score' ; x_eff = 'schema_effect' ; x_roi_id = 9999\n",
    "m_roi = 'PMC' ; m_scoretype = 'roi_recall_score' ; m_eff = 'story_effect' ; m_roi_id = 9999\n",
    "y = rubric_scores #rubric_scores; \n",
    "\n",
    "subset = modalitybool(\"B\")\n",
    "\n",
    "data = GetData(date, x_roi, x_scoretype, x_eff, x_roi_id, m_roi, m_scoretype, m_eff, m_roi_id, y, subset=subset,hems='all')\n"
   ]
  },
  {
   "cell_type": "code",
   "execution_count": 15,
   "metadata": {},
   "outputs": [
    {
     "name": "stdout",
     "output_type": "stream",
     "text": [
      "ls: cannot access ../.../SchemaBigFiles/_PaperOutputData/roi_percept_score/: No such file or directory\r\n"
     ]
    }
   ],
   "source": [
    "ls ../../SchemaBigFiles/_PaperOutputData/roi_percept_score/"
   ]
  },
  {
   "cell_type": "code",
   "execution_count": 18,
   "metadata": {},
   "outputs": [
    {
     "data": {
      "text/plain": [
       "(X    0.192933\n",
       " M    0.243713\n",
       " dtype: float64, X    0.043515\n",
       " M    0.043515\n",
       " dtype: float64)"
      ]
     },
     "execution_count": 18,
     "metadata": {},
     "output_type": "execute_result"
    }
   ],
   "source": [
    "RunRegression('Y ~ X+M-1',data)"
   ]
  },
  {
   "cell_type": "code",
   "execution_count": 19,
   "metadata": {},
   "outputs": [
    {
     "data": {
      "application/vnd.jupyter.widget-view+json": {
       "model_id": "4e086c1a08bc41e6984eb4ecf82cb4a1",
       "version_major": 2,
       "version_minor": 0
      },
      "text/plain": [
       "HBox(children=(IntProgress(value=0, max=1001), HTML(value='')))"
      ]
     },
     "metadata": {},
     "output_type": "display_data"
    },
    {
     "name": "stdout",
     "output_type": "stream",
     "text": [
      "a,b,c,c_ :  0.11988806110618963 0.2437134482485433 0.22215096468723153 0.19293263191121002\n",
      "\n"
     ]
    },
    {
     "data": {
      "text/html": [
       "<div>\n",
       "<style scoped>\n",
       "    .dataframe tbody tr th:only-of-type {\n",
       "        vertical-align: middle;\n",
       "    }\n",
       "\n",
       "    .dataframe tbody tr th {\n",
       "        vertical-align: top;\n",
       "    }\n",
       "\n",
       "    .dataframe thead th {\n",
       "        text-align: right;\n",
       "    }\n",
       "</style>\n",
       "<table border=\"1\" class=\"dataframe\">\n",
       "  <thead>\n",
       "    <tr style=\"text-align: right;\">\n",
       "      <th></th>\n",
       "      <th>estimate</th>\n",
       "      <th>p</th>\n",
       "      <th>lower</th>\n",
       "      <th>upper</th>\n",
       "    </tr>\n",
       "  </thead>\n",
       "  <tbody>\n",
       "    <tr>\n",
       "      <th>a</th>\n",
       "      <td>0.119888</td>\n",
       "      <td>0.028971</td>\n",
       "      <td>NaN</td>\n",
       "      <td>NaN</td>\n",
       "    </tr>\n",
       "    <tr>\n",
       "      <th>b</th>\n",
       "      <td>0.243713</td>\n",
       "      <td>0.000999001</td>\n",
       "      <td>NaN</td>\n",
       "      <td>NaN</td>\n",
       "    </tr>\n",
       "    <tr>\n",
       "      <th>ab</th>\n",
       "      <td>0.0292183</td>\n",
       "      <td>0.000999001</td>\n",
       "      <td>NaN</td>\n",
       "      <td>NaN</td>\n",
       "    </tr>\n",
       "    <tr>\n",
       "      <th>c</th>\n",
       "      <td>0.222151</td>\n",
       "      <td>0.000999001</td>\n",
       "      <td>NaN</td>\n",
       "      <td>NaN</td>\n",
       "    </tr>\n",
       "    <tr>\n",
       "      <th>c'</th>\n",
       "      <td>0.192933</td>\n",
       "      <td>0.000999001</td>\n",
       "      <td>NaN</td>\n",
       "      <td>NaN</td>\n",
       "    </tr>\n",
       "    <tr>\n",
       "      <th>ab/c</th>\n",
       "      <td>0.131525</td>\n",
       "      <td>0.0639361</td>\n",
       "      <td>NaN</td>\n",
       "      <td>NaN</td>\n",
       "    </tr>\n",
       "    <tr>\n",
       "      <th>sobel</th>\n",
       "      <td>2.39018</td>\n",
       "      <td>0.00842013</td>\n",
       "      <td>NaN</td>\n",
       "      <td>NaN</td>\n",
       "    </tr>\n",
       "  </tbody>\n",
       "</table>\n",
       "</div>"
      ],
      "text/plain": [
       "        estimate            p lower upper\n",
       "a       0.119888     0.028971   NaN   NaN\n",
       "b       0.243713  0.000999001   NaN   NaN\n",
       "ab     0.0292183  0.000999001   NaN   NaN\n",
       "c       0.222151  0.000999001   NaN   NaN\n",
       "c'      0.192933  0.000999001   NaN   NaN\n",
       "ab/c    0.131525    0.0639361   NaN   NaN\n",
       "sobel    2.39018   0.00842013   NaN   NaN"
      ]
     },
     "execution_count": 19,
     "metadata": {},
     "output_type": "execute_result"
    }
   ],
   "source": [
    "a,b,c,c_ = Permute(data.copy())\n",
    "\n",
    "\n",
    "### put results in dataframe\n",
    "########\n",
    "\n",
    "results = pd.DataFrame(index=['a','b', 'ab', 'c', \"c'\",'ab/c', 'sobel'], columns=['estimate', 'p','lower','upper'])\n",
    "\n",
    "for e,est in zip(['a','b','c',\"c'\"],[a,b,c,c_]):\n",
    "#     print(e,est)\n",
    "    results.loc[e, 'estimate'] = est[0,0]\n",
    "#     results.loc[e, 'p'] = norm.sf(abs((est[0,0] - np.mean(est[0,1:]))/np.std(est[0,1:]))) #normal assumption and two-tailed\n",
    "#     results.loc[e, 'p'] = np.sum(est[0,1:]>=est[0,0])/np.sum(nPerm+1) #fully nonparametric\n",
    "    results.loc[e, 'p'] = np.sum(np.abs(est[0,:])>=np.abs(est[0,0]))/np.sum(nPerm+1) #fully nonparametric\n",
    "\n",
    "    \n",
    "ab = a[0,:]*b[0,:]\n",
    "results.loc['ab','estimate'] = ab[0] #a*b\n",
    "results.loc['ab','p'] = np.sum(np.abs(ab[:])>=np.abs(ab[0]))/np.sum(nPerm+1)\n",
    "\n",
    "ab_c = a[0,:]*b[0,:]/c[0,:] #a[0,0]*b[0,0]/c[0,0] #a*b/c \n",
    "results.loc[\"ab/c\",'estimate'] = ab_c[0]\n",
    "results.loc[\"ab/c\",'p'] = np.sum(np.abs(ab_c[:])>=np.abs(ab_c[0]))/np.sum(nPerm+1)\n",
    "    \n",
    "ab_var = np.sqrt(np.power(b[0,:],2)*np.power(a[1,:],2) + np.power(a[0,:],2)*np.power(b[1,:],2))\n",
    "sobel = (a[0,:]*b[0,:]/ab_var)\n",
    "results.loc['sobel','estimate'] = sobel[0]\n",
    "results.loc['sobel', 'p'] = stats.norm.sf(np.abs(sobel))[0]\n",
    "\n",
    "results"
   ]
  },
  {
   "cell_type": "code",
   "execution_count": 20,
   "metadata": {},
   "outputs": [
    {
     "name": "stderr",
     "output_type": "stream",
     "text": [
      "/jukebox/pkgs/PYGER/0.8/lib/python3.6/site-packages/networkx/drawing/nx_pylab.py:563: MatplotlibDeprecationWarning: \n",
      "The iterable function was deprecated in Matplotlib 3.1 and will be removed in 3.3. Use np.iterable instead.\n",
      "  if not cb.iterable(width):\n",
      "/jukebox/pkgs/PYGER/0.8/lib/python3.6/site-packages/networkx/drawing/nx_pylab.py:660: MatplotlibDeprecationWarning: \n",
      "The iterable function was deprecated in Matplotlib 3.1 and will be removed in 3.3. Use np.iterable instead.\n",
      "  if cb.iterable(node_size):  # many node sizes\n"
     ]
    },
    {
     "data": {
      "image/png": "[encoded data removed]",
      "text/plain": [
       "<Figure size 720x360 with 2 Axes>"
      ]
     },
     "metadata": {
      "needs_background": "light"
     },
     "output_type": "display_data"
    }
   ],
   "source": [
    "### draw mediation with nodes\n",
    "\n",
    "DrawMediation(a[0,0],b[0,0],c[0,0],c_[0,0]);\n"
   ]
  },
  {
   "cell_type": "code",
   "execution_count": 21,
   "metadata": {},
   "outputs": [
    {
     "data": {
      "application/vnd.jupyter.widget-view+json": {
       "model_id": "88bace71d4da410ea19045b941be1863",
       "version_major": 2,
       "version_minor": 0
      },
      "text/plain": [
       "HBox(children=(IntProgress(value=0, max=1001), HTML(value='')))"
      ]
     },
     "metadata": {},
     "output_type": "display_data"
    },
    {
     "name": "stdout",
     "output_type": "stream",
     "text": [
      "a,b:  0.11988806110618963 0.2437134482485433\n",
      "\n",
      "proportion 1:  0.485\n",
      "proportion:  1000 0.5154845154845155\n",
      "z :  0.03882367513806204\n",
      "Intervals: 0.030 - 0.979\n"
     ]
    },
    {
     "data": {
      "text/html": [
       "<div>\n",
       "<style scoped>\n",
       "    .dataframe tbody tr th:only-of-type {\n",
       "        vertical-align: middle;\n",
       "    }\n",
       "\n",
       "    .dataframe tbody tr th {\n",
       "        vertical-align: top;\n",
       "    }\n",
       "\n",
       "    .dataframe thead th {\n",
       "        text-align: right;\n",
       "    }\n",
       "</style>\n",
       "<table border=\"1\" class=\"dataframe\">\n",
       "  <thead>\n",
       "    <tr style=\"text-align: right;\">\n",
       "      <th></th>\n",
       "      <th>estimate</th>\n",
       "      <th>p</th>\n",
       "      <th>lower</th>\n",
       "      <th>upper</th>\n",
       "    </tr>\n",
       "  </thead>\n",
       "  <tbody>\n",
       "    <tr>\n",
       "      <th>a</th>\n",
       "      <td>0.119888</td>\n",
       "      <td>0.028971</td>\n",
       "      <td>NaN</td>\n",
       "      <td>NaN</td>\n",
       "    </tr>\n",
       "    <tr>\n",
       "      <th>b</th>\n",
       "      <td>0.243713</td>\n",
       "      <td>0.000999001</td>\n",
       "      <td>NaN</td>\n",
       "      <td>NaN</td>\n",
       "    </tr>\n",
       "    <tr>\n",
       "      <th>ab</th>\n",
       "      <td>0.0292183</td>\n",
       "      <td>0.000999001</td>\n",
       "      <td>0.00688268</td>\n",
       "      <td>0.056171</td>\n",
       "    </tr>\n",
       "    <tr>\n",
       "      <th>c</th>\n",
       "      <td>0.222151</td>\n",
       "      <td>0.000999001</td>\n",
       "      <td>NaN</td>\n",
       "      <td>NaN</td>\n",
       "    </tr>\n",
       "    <tr>\n",
       "      <th>c'</th>\n",
       "      <td>0.192933</td>\n",
       "      <td>0.000999001</td>\n",
       "      <td>NaN</td>\n",
       "      <td>NaN</td>\n",
       "    </tr>\n",
       "    <tr>\n",
       "      <th>ab/c</th>\n",
       "      <td>0.131525</td>\n",
       "      <td>0.0639361</td>\n",
       "      <td>0.030982</td>\n",
       "      <td>0.25285</td>\n",
       "    </tr>\n",
       "    <tr>\n",
       "      <th>sobel</th>\n",
       "      <td>2.39018</td>\n",
       "      <td>0.00842013</td>\n",
       "      <td>NaN</td>\n",
       "      <td>NaN</td>\n",
       "    </tr>\n",
       "  </tbody>\n",
       "</table>\n",
       "</div>"
      ],
      "text/plain": [
       "        estimate            p       lower     upper\n",
       "a       0.119888     0.028971         NaN       NaN\n",
       "b       0.243713  0.000999001         NaN       NaN\n",
       "ab     0.0292183  0.000999001  0.00688268  0.056171\n",
       "c       0.222151  0.000999001         NaN       NaN\n",
       "c'      0.192933  0.000999001         NaN       NaN\n",
       "ab/c    0.131525    0.0639361    0.030982   0.25285\n",
       "sobel    2.39018   0.00842013         NaN       NaN"
      ]
     },
     "execution_count": 21,
     "metadata": {},
     "output_type": "execute_result"
    },
    {
     "data": {
      "image/png": "[encoded data removed]",
      "text/plain": [
       "<Figure size 432x288 with 1 Axes>"
      ]
     },
     "metadata": {
      "needs_background": "light"
     },
     "output_type": "display_data"
    }
   ],
   "source": [
    "data = GetData(date, x_roi, x_scoretype, x_eff, x_roi_id, m_roi, m_scoretype, m_eff, m_roi_id, y, subset=subset,hems='all')\n",
    "\n",
    "ci_bias, ci_classic = Boot(data)\n",
    "\n",
    "for ci,i in zip(['lower','upper'],[0,1]):\n",
    "    results.loc['ab', ci] = ci_bias[i]\n",
    "    results.loc['ab/c',ci] = ci_bias[i]/results.loc['c','estimate']\n",
    "    \n",
    "results"
   ]
  },
  {
   "cell_type": "code",
   "execution_count": null,
   "metadata": {},
   "outputs": [],
   "source": []
  },
  {
   "cell_type": "code",
   "execution_count": null,
   "metadata": {},
   "outputs": [],
   "source": []
  },
  {
   "cell_type": "code",
   "execution_count": null,
   "metadata": {},
   "outputs": [],
   "source": []
  }
 ],
 "metadata": {
  "kernelspec": {
   "display_name": "Python 3",
   "language": "python",
   "name": "python3"
  },
  "language_info": {
   "codemirror_mode": {
    "name": "ipython",
    "version": 3
   },
   "file_extension": ".py",
   "mimetype": "text/x-python",
   "name": "python",
   "nbconvert_exporter": "python",
   "pygments_lexer": "ipython3",
   "version": "3.6.6"
  }
 },
 "nbformat": 4,
 "nbformat_minor": 2
}
